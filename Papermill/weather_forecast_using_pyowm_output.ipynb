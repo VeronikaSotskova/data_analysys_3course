{
 "cells": [
  {
   "cell_type": "markdown",
   "metadata": {
    "papermill": {
     "duration": 0.012871,
     "end_time": "2020-12-27T18:42:52.174043",
     "exception": false,
     "start_time": "2020-12-27T18:42:52.161172",
     "status": "completed"
    },
    "tags": []
   },
   "source": [
    "# Часть 1:получение метеоданных через PyOWM API\n",
    "\n",
    "## 1. Доступ к pyown API\n",
    "\n",
    "На первом этапе анализа мы получаем метеоданные по выбранному городу через `pyown API`.\n",
    "Эта информация структурируется в словаре, а затем загружается в виде `DataFrame Pandas` для выполнения первичной обработки.\n",
    "\n",
    "### импорт библиотек"
   ]
  },
  {
   "cell_type": "code",
   "execution_count": 1,
   "metadata": {
    "execution": {
     "iopub.execute_input": "2020-12-27T18:42:52.201935Z",
     "iopub.status.busy": "2020-12-27T18:42:52.200938Z",
     "iopub.status.idle": "2020-12-27T18:42:53.366561Z",
     "shell.execute_reply": "2020-12-27T18:42:53.366561Z"
    },
    "papermill": {
     "duration": 1.18055,
     "end_time": "2020-12-27T18:42:53.366561",
     "exception": false,
     "start_time": "2020-12-27T18:42:52.186011",
     "status": "completed"
    },
    "tags": []
   },
   "outputs": [],
   "source": [
    "import pyowm\n",
    "import pandas as pd\n",
    "import seaborn as sns\n",
    "import matplotlib.pyplot as plt\n",
    "import pdfkit"
   ]
  },
  {
   "cell_type": "markdown",
   "metadata": {
    "papermill": {
     "duration": 0.012965,
     "end_time": "2020-12-27T18:42:53.392492",
     "exception": false,
     "start_time": "2020-12-27T18:42:53.379527",
     "status": "completed"
    },
    "tags": []
   },
   "source": [
    "## 1.1. Установка API-ключа PyOWM и определение переменных\n",
    "\n",
    "Здесь мы определяем API-ключ для доступа к сервису `OpenWeather`, а также ячейку с параметром `city` , которая прописывается в `Papermill`.\n",
    "\n",
    "### Установка API-ключа"
   ]
  },
  {
   "cell_type": "code",
   "execution_count": 2,
   "metadata": {
    "execution": {
     "iopub.execute_input": "2020-12-27T18:42:53.420417Z",
     "iopub.status.busy": "2020-12-27T18:42:53.419393Z",
     "iopub.status.idle": "2020-12-27T18:42:53.966584Z",
     "shell.execute_reply": "2020-12-27T18:42:53.966584Z"
    },
    "papermill": {
     "duration": 0.562119,
     "end_time": "2020-12-27T18:42:53.966584",
     "exception": false,
     "start_time": "2020-12-27T18:42:53.404465",
     "status": "completed"
    },
    "tags": []
   },
   "outputs": [],
   "source": [
    "owm = pyowm.OWM('43230e425309640f29960a123f537173')"
   ]
  },
  {
   "cell_type": "markdown",
   "metadata": {
    "papermill": {
     "duration": 0.01198,
     "end_time": "2020-12-27T18:42:53.991526",
     "exception": false,
     "start_time": "2020-12-27T18:42:53.979546",
     "status": "completed"
    },
    "tags": []
   },
   "source": [
    "### Определение параметров по умолчанию:"
   ]
  },
  {
   "cell_type": "code",
   "execution_count": 3,
   "metadata": {
    "execution": {
     "iopub.execute_input": "2020-12-27T18:42:54.022417Z",
     "iopub.status.busy": "2020-12-27T18:42:54.021433Z",
     "iopub.status.idle": "2020-12-27T18:42:54.025497Z",
     "shell.execute_reply": "2020-12-27T18:42:54.025497Z"
    },
    "papermill": {
     "duration": 0.022004,
     "end_time": "2020-12-27T18:42:54.025497",
     "exception": false,
     "start_time": "2020-12-27T18:42:54.003493",
     "status": "completed"
    },
    "tags": [
     "parameters"
    ]
   },
   "outputs": [],
   "source": [
    "city = 'Sao Paulo,BR'"
   ]
  },
  {
   "cell_type": "code",
   "execution_count": 4,
   "metadata": {
    "execution": {
     "iopub.execute_input": "2020-12-27T18:42:54.053399Z",
     "iopub.status.busy": "2020-12-27T18:42:54.052400Z",
     "iopub.status.idle": "2020-12-27T18:42:54.056406Z",
     "shell.execute_reply": "2020-12-27T18:42:54.056406Z"
    },
    "papermill": {
     "duration": 0.01796,
     "end_time": "2020-12-27T18:42:54.056406",
     "exception": false,
     "start_time": "2020-12-27T18:42:54.038446",
     "status": "completed"
    },
    "tags": [
     "injected-parameters"
    ]
   },
   "outputs": [],
   "source": [
    "# Parameters\n",
    "city = \"Moscow, RU\"\n"
   ]
  },
  {
   "cell_type": "markdown",
   "metadata": {
    "papermill": {
     "duration": 0.011968,
     "end_time": "2020-12-27T18:42:54.081339",
     "exception": false,
     "start_time": "2020-12-27T18:42:54.069371",
     "status": "completed"
    },
    "tags": []
   },
   "source": [
    "## 1.2. Получение метеоданных по определенному городу\n",
    "\n",
    "На данном этапе мы используем PyOWM для получения данных о городе и структурирования их сначала в словаре, а затем в `DataFrame`.\n",
    "\n",
    "###  Инстанцирование объекта `forecast` и получение метеоданных о городе:"
   ]
  },
  {
   "cell_type": "code",
   "execution_count": 5,
   "metadata": {
    "execution": {
     "iopub.execute_input": "2020-12-27T18:42:54.110263Z",
     "iopub.status.busy": "2020-12-27T18:42:54.109265Z",
     "iopub.status.idle": "2020-12-27T18:42:54.366022Z",
     "shell.execute_reply": "2020-12-27T18:42:54.367019Z"
    },
    "papermill": {
     "duration": 0.273712,
     "end_time": "2020-12-27T18:42:54.367019",
     "exception": false,
     "start_time": "2020-12-27T18:42:54.093307",
     "status": "completed"
    },
    "tags": []
   },
   "outputs": [],
   "source": [
    "fc = owm.three_hours_forecast(city)\n",
    "forecast = fc.get_forecast()"
   ]
  },
  {
   "cell_type": "markdown",
   "metadata": {
    "papermill": {
     "duration": 0.012965,
     "end_time": "2020-12-27T18:42:54.420874",
     "exception": false,
     "start_time": "2020-12-27T18:42:54.407909",
     "status": "completed"
    },
    "tags": []
   },
   "source": [
    "### Создание словаря для структурирования метеоданных по выбранному городу:"
   ]
  },
  {
   "cell_type": "code",
   "execution_count": 6,
   "metadata": {
    "execution": {
     "iopub.execute_input": "2020-12-27T18:42:54.452790Z",
     "iopub.status.busy": "2020-12-27T18:42:54.452790Z",
     "iopub.status.idle": "2020-12-27T18:42:54.455794Z",
     "shell.execute_reply": "2020-12-27T18:42:54.454784Z"
    },
    "papermill": {
     "duration": 0.019958,
     "end_time": "2020-12-27T18:42:54.455794",
     "exception": false,
     "start_time": "2020-12-27T18:42:54.435836",
     "status": "completed"
    },
    "tags": []
   },
   "outputs": [],
   "source": [
    "dict_forecast = {\n",
    " 'datetime':[],\n",
    " 'clouds':[],\n",
    " 'humidity':[],\n",
    " 'temp':[],\n",
    " 'temp_max':[],\n",
    " 'temp_min':[],\n",
    " 'detailed_status':[],\n",
    " 'icon_url':[],\n",
    " 'rain_vol':[]\n",
    "}"
   ]
  },
  {
   "cell_type": "markdown",
   "metadata": {
    "papermill": {
     "duration": 0.012964,
     "end_time": "2020-12-27T18:42:54.483707",
     "exception": false,
     "start_time": "2020-12-27T18:42:54.470743",
     "status": "completed"
    },
    "tags": []
   },
   "source": [
    "### Перебор объекта `forecast` для доступа к метеорологическим характеристикам (опциям):"
   ]
  },
  {
   "cell_type": "code",
   "execution_count": 7,
   "metadata": {
    "execution": {
     "iopub.execute_input": "2020-12-27T18:42:54.518651Z",
     "iopub.status.busy": "2020-12-27T18:42:54.518651Z",
     "iopub.status.idle": "2020-12-27T18:42:54.520643Z",
     "shell.execute_reply": "2020-12-27T18:42:54.520643Z"
    },
    "papermill": {
     "duration": 0.023936,
     "end_time": "2020-12-27T18:42:54.520643",
     "exception": false,
     "start_time": "2020-12-27T18:42:54.496707",
     "status": "completed"
    },
    "tags": []
   },
   "outputs": [],
   "source": [
    "for weather in forecast:\n",
    "    dict_forecast['datetime'].append(str(weather.get_reference_time(timeformat='iso')))\n",
    "    dict_forecast['clouds'].append(weather.get_clouds())    \n",
    "    dict_forecast['humidity'].append(weather.get_humidity())\n",
    "    dict_forecast['temp'].append(weather.get_temperature(unit='celsius').get('temp'))\n",
    "    dict_forecast['temp_max'].append(weather.get_temperature(unit='celsius').get('temp_max'))\n",
    "    dict_forecast['temp_min'].append(weather.get_temperature(unit='celsius').get('temp_min'))\n",
    "    dict_forecast['detailed_status'].append(weather.get_detailed_status())\n",
    "    dict_forecast['icon_url'].append(weather.get_weather_icon_url())\n",
    "    if '3h' in weather.get_rain().keys():\n",
    "        dict_forecast['rain_vol'].append(weather.get_rain().get('3h'))\n",
    "    else:\n",
    "        dict_forecast['rain_vol'].append(0)"
   ]
  },
  {
   "cell_type": "markdown",
   "metadata": {
    "papermill": {
     "duration": 0.013963,
     "end_time": "2020-12-27T18:42:54.548537",
     "exception": false,
     "start_time": "2020-12-27T18:42:54.534574",
     "status": "completed"
    },
    "tags": []
   },
   "source": [
    "### Создание `Dataframe` из словаря:"
   ]
  },
  {
   "cell_type": "code",
   "execution_count": 8,
   "metadata": {
    "execution": {
     "iopub.execute_input": "2020-12-27T18:42:54.586432Z",
     "iopub.status.busy": "2020-12-27T18:42:54.586432Z",
     "iopub.status.idle": "2020-12-27T18:42:54.593903Z",
     "shell.execute_reply": "2020-12-27T18:42:54.594938Z"
    },
    "papermill": {
     "duration": 0.033437,
     "end_time": "2020-12-27T18:42:54.594938",
     "exception": false,
     "start_time": "2020-12-27T18:42:54.561501",
     "status": "completed"
    },
    "tags": []
   },
   "outputs": [
    {
     "data": {
      "text/html": [
       "<div>\n",
       "<style scoped>\n",
       "    .dataframe tbody tr th:only-of-type {\n",
       "        vertical-align: middle;\n",
       "    }\n",
       "\n",
       "    .dataframe tbody tr th {\n",
       "        vertical-align: top;\n",
       "    }\n",
       "\n",
       "    .dataframe thead th {\n",
       "        text-align: right;\n",
       "    }\n",
       "</style>\n",
       "<table border=\"1\" class=\"dataframe\">\n",
       "  <thead>\n",
       "    <tr style=\"text-align: right;\">\n",
       "      <th></th>\n",
       "      <th>datetime</th>\n",
       "      <th>clouds</th>\n",
       "      <th>humidity</th>\n",
       "      <th>temp</th>\n",
       "      <th>temp_max</th>\n",
       "      <th>temp_min</th>\n",
       "      <th>detailed_status</th>\n",
       "      <th>icon_url</th>\n",
       "      <th>rain_vol</th>\n",
       "    </tr>\n",
       "  </thead>\n",
       "  <tbody>\n",
       "    <tr>\n",
       "      <th>0</th>\n",
       "      <td>2020-12-27 21:00:00+00:00</td>\n",
       "      <td>38</td>\n",
       "      <td>87</td>\n",
       "      <td>-10.53</td>\n",
       "      <td>-10.53</td>\n",
       "      <td>-14.57</td>\n",
       "      <td>scattered clouds</td>\n",
       "      <td>http://openweathermap.org/img/w/03n.png</td>\n",
       "      <td>0.0</td>\n",
       "    </tr>\n",
       "    <tr>\n",
       "      <th>1</th>\n",
       "      <td>2020-12-28 00:00:00+00:00</td>\n",
       "      <td>16</td>\n",
       "      <td>91</td>\n",
       "      <td>-12.57</td>\n",
       "      <td>-12.57</td>\n",
       "      <td>-14.19</td>\n",
       "      <td>few clouds</td>\n",
       "      <td>http://openweathermap.org/img/w/02n.png</td>\n",
       "      <td>0.0</td>\n",
       "    </tr>\n",
       "    <tr>\n",
       "      <th>2</th>\n",
       "      <td>2020-12-28 03:00:00+00:00</td>\n",
       "      <td>34</td>\n",
       "      <td>94</td>\n",
       "      <td>-13.70</td>\n",
       "      <td>-13.70</td>\n",
       "      <td>-14.18</td>\n",
       "      <td>scattered clouds</td>\n",
       "      <td>http://openweathermap.org/img/w/03n.png</td>\n",
       "      <td>0.0</td>\n",
       "    </tr>\n",
       "    <tr>\n",
       "      <th>3</th>\n",
       "      <td>2020-12-28 06:00:00+00:00</td>\n",
       "      <td>26</td>\n",
       "      <td>95</td>\n",
       "      <td>-13.89</td>\n",
       "      <td>-13.89</td>\n",
       "      <td>-13.95</td>\n",
       "      <td>scattered clouds</td>\n",
       "      <td>http://openweathermap.org/img/w/03d.png</td>\n",
       "      <td>0.0</td>\n",
       "    </tr>\n",
       "    <tr>\n",
       "      <th>4</th>\n",
       "      <td>2020-12-28 09:00:00+00:00</td>\n",
       "      <td>4</td>\n",
       "      <td>96</td>\n",
       "      <td>-10.74</td>\n",
       "      <td>-10.74</td>\n",
       "      <td>-10.74</td>\n",
       "      <td>clear sky</td>\n",
       "      <td>http://openweathermap.org/img/w/01d.png</td>\n",
       "      <td>0.0</td>\n",
       "    </tr>\n",
       "  </tbody>\n",
       "</table>\n",
       "</div>"
      ],
      "text/plain": [
       "                   datetime  clouds  humidity   temp  temp_max  temp_min  \\\n",
       "0 2020-12-27 21:00:00+00:00      38        87 -10.53    -10.53    -14.57   \n",
       "1 2020-12-28 00:00:00+00:00      16        91 -12.57    -12.57    -14.19   \n",
       "2 2020-12-28 03:00:00+00:00      34        94 -13.70    -13.70    -14.18   \n",
       "3 2020-12-28 06:00:00+00:00      26        95 -13.89    -13.89    -13.95   \n",
       "4 2020-12-28 09:00:00+00:00       4        96 -10.74    -10.74    -10.74   \n",
       "\n",
       "    detailed_status                                 icon_url  rain_vol  \n",
       "0  scattered clouds  http://openweathermap.org/img/w/03n.png       0.0  \n",
       "1        few clouds  http://openweathermap.org/img/w/02n.png       0.0  \n",
       "2  scattered clouds  http://openweathermap.org/img/w/03n.png       0.0  \n",
       "3  scattered clouds  http://openweathermap.org/img/w/03d.png       0.0  \n",
       "4         clear sky  http://openweathermap.org/img/w/01d.png       0.0  "
      ]
     },
     "execution_count": 8,
     "metadata": {},
     "output_type": "execute_result"
    }
   ],
   "source": [
    "df = pd.DataFrame.from_dict(dict_forecast)\n",
    "\n",
    "# Set dtype to datetime for 'datetime' column \n",
    "df['datetime'] = pd.to_datetime(df['datetime'])\n",
    "\n",
    "df.head()"
   ]
  },
  {
   "cell_type": "code",
   "execution_count": 9,
   "metadata": {
    "execution": {
     "iopub.execute_input": "2020-12-27T18:42:54.624822Z",
     "iopub.status.busy": "2020-12-27T18:42:54.624822Z",
     "iopub.status.idle": "2020-12-27T18:42:54.638701Z",
     "shell.execute_reply": "2020-12-27T18:42:54.638701Z"
    },
    "papermill": {
     "duration": 0.030804,
     "end_time": "2020-12-27T18:42:54.638701",
     "exception": false,
     "start_time": "2020-12-27T18:42:54.607897",
     "status": "completed"
    },
    "tags": []
   },
   "outputs": [
    {
     "data": {
      "text/html": [
       "<div>\n",
       "<style scoped>\n",
       "    .dataframe tbody tr th:only-of-type {\n",
       "        vertical-align: middle;\n",
       "    }\n",
       "\n",
       "    .dataframe tbody tr th {\n",
       "        vertical-align: top;\n",
       "    }\n",
       "\n",
       "    .dataframe thead th {\n",
       "        text-align: right;\n",
       "    }\n",
       "</style>\n",
       "<table border=\"1\" class=\"dataframe\">\n",
       "  <thead>\n",
       "    <tr style=\"text-align: right;\">\n",
       "      <th></th>\n",
       "      <th>clouds</th>\n",
       "      <th>humidity</th>\n",
       "      <th>temp</th>\n",
       "      <th>temp_max</th>\n",
       "      <th>temp_min</th>\n",
       "      <th>rain_vol</th>\n",
       "    </tr>\n",
       "  </thead>\n",
       "  <tbody>\n",
       "    <tr>\n",
       "      <th>2020-12-27</th>\n",
       "      <td>38.000</td>\n",
       "      <td>87.000</td>\n",
       "      <td>-10.530000</td>\n",
       "      <td>-10.530000</td>\n",
       "      <td>-14.570000</td>\n",
       "      <td>0.000000</td>\n",
       "    </tr>\n",
       "    <tr>\n",
       "      <th>2020-12-28</th>\n",
       "      <td>35.375</td>\n",
       "      <td>94.750</td>\n",
       "      <td>-12.761250</td>\n",
       "      <td>-12.761250</td>\n",
       "      <td>-13.031250</td>\n",
       "      <td>0.000000</td>\n",
       "    </tr>\n",
       "    <tr>\n",
       "      <th>2020-12-29</th>\n",
       "      <td>86.000</td>\n",
       "      <td>95.000</td>\n",
       "      <td>-10.923750</td>\n",
       "      <td>-10.923750</td>\n",
       "      <td>-10.923750</td>\n",
       "      <td>0.000000</td>\n",
       "    </tr>\n",
       "    <tr>\n",
       "      <th>2020-12-30</th>\n",
       "      <td>99.875</td>\n",
       "      <td>97.875</td>\n",
       "      <td>-1.825000</td>\n",
       "      <td>-1.825000</td>\n",
       "      <td>-1.825000</td>\n",
       "      <td>0.031250</td>\n",
       "    </tr>\n",
       "    <tr>\n",
       "      <th>2020-12-31</th>\n",
       "      <td>100.000</td>\n",
       "      <td>97.750</td>\n",
       "      <td>-0.061250</td>\n",
       "      <td>-0.061250</td>\n",
       "      <td>-0.061250</td>\n",
       "      <td>0.053750</td>\n",
       "    </tr>\n",
       "    <tr>\n",
       "      <th>2021-01-01</th>\n",
       "      <td>100.000</td>\n",
       "      <td>98.000</td>\n",
       "      <td>-0.405714</td>\n",
       "      <td>-0.405714</td>\n",
       "      <td>-0.405714</td>\n",
       "      <td>0.057143</td>\n",
       "    </tr>\n",
       "  </tbody>\n",
       "</table>\n",
       "</div>"
      ],
      "text/plain": [
       "             clouds  humidity       temp   temp_max   temp_min  rain_vol\n",
       "2020-12-27   38.000    87.000 -10.530000 -10.530000 -14.570000  0.000000\n",
       "2020-12-28   35.375    94.750 -12.761250 -12.761250 -13.031250  0.000000\n",
       "2020-12-29   86.000    95.000 -10.923750 -10.923750 -10.923750  0.000000\n",
       "2020-12-30   99.875    97.875  -1.825000  -1.825000  -1.825000  0.031250\n",
       "2020-12-31  100.000    97.750  -0.061250  -0.061250  -0.061250  0.053750\n",
       "2021-01-01  100.000    98.000  -0.405714  -0.405714  -0.405714  0.057143"
      ]
     },
     "execution_count": 9,
     "metadata": {},
     "output_type": "execute_result"
    }
   ],
   "source": [
    "# Create a dataframe agregating the values based on each day\n",
    "# for mean\n",
    "df_mean = df.resample('D', on='datetime').mean()\n",
    "df_mean.index = df_mean.index.date\n",
    "#df_mean.drop('datetime', axis=1, inplace=True)\n",
    "df_mean"
   ]
  },
  {
   "cell_type": "code",
   "execution_count": 10,
   "metadata": {
    "execution": {
     "iopub.execute_input": "2020-12-27T18:42:54.692554Z",
     "iopub.status.busy": "2020-12-27T18:42:54.683550Z",
     "iopub.status.idle": "2020-12-27T18:42:54.696523Z",
     "shell.execute_reply": "2020-12-27T18:42:54.696523Z"
    },
    "papermill": {
     "duration": 0.044886,
     "end_time": "2020-12-27T18:42:54.697551",
     "exception": false,
     "start_time": "2020-12-27T18:42:54.652665",
     "status": "completed"
    },
    "tags": []
   },
   "outputs": [
    {
     "data": {
      "text/html": [
       "<div>\n",
       "<style scoped>\n",
       "    .dataframe tbody tr th:only-of-type {\n",
       "        vertical-align: middle;\n",
       "    }\n",
       "\n",
       "    .dataframe tbody tr th {\n",
       "        vertical-align: top;\n",
       "    }\n",
       "\n",
       "    .dataframe thead th {\n",
       "        text-align: right;\n",
       "    }\n",
       "</style>\n",
       "<table border=\"1\" class=\"dataframe\">\n",
       "  <thead>\n",
       "    <tr style=\"text-align: right;\">\n",
       "      <th></th>\n",
       "      <th>clouds</th>\n",
       "      <th>humidity</th>\n",
       "      <th>temp</th>\n",
       "      <th>temp_max</th>\n",
       "      <th>temp_min</th>\n",
       "      <th>detailed_status</th>\n",
       "      <th>icon_url</th>\n",
       "      <th>rain_vol</th>\n",
       "    </tr>\n",
       "  </thead>\n",
       "  <tbody>\n",
       "    <tr>\n",
       "      <th>2020-12-27</th>\n",
       "      <td>38</td>\n",
       "      <td>87</td>\n",
       "      <td>-10.53</td>\n",
       "      <td>-10.53</td>\n",
       "      <td>-14.57</td>\n",
       "      <td>scattered clouds</td>\n",
       "      <td>http://openweathermap.org/img/w/03n.png</td>\n",
       "      <td>0.00</td>\n",
       "    </tr>\n",
       "    <tr>\n",
       "      <th>2020-12-28</th>\n",
       "      <td>82</td>\n",
       "      <td>96</td>\n",
       "      <td>-10.58</td>\n",
       "      <td>-10.58</td>\n",
       "      <td>-10.58</td>\n",
       "      <td>scattered clouds</td>\n",
       "      <td>http://openweathermap.org/img/w/04n.png</td>\n",
       "      <td>0.00</td>\n",
       "    </tr>\n",
       "    <tr>\n",
       "      <th>2020-12-29</th>\n",
       "      <td>100</td>\n",
       "      <td>97</td>\n",
       "      <td>-5.77</td>\n",
       "      <td>-5.77</td>\n",
       "      <td>-5.77</td>\n",
       "      <td>scattered clouds</td>\n",
       "      <td>http://openweathermap.org/img/w/13n.png</td>\n",
       "      <td>0.00</td>\n",
       "    </tr>\n",
       "    <tr>\n",
       "      <th>2020-12-30</th>\n",
       "      <td>100</td>\n",
       "      <td>99</td>\n",
       "      <td>0.96</td>\n",
       "      <td>0.96</td>\n",
       "      <td>0.96</td>\n",
       "      <td>overcast clouds</td>\n",
       "      <td>http://openweathermap.org/img/w/13n.png</td>\n",
       "      <td>0.25</td>\n",
       "    </tr>\n",
       "    <tr>\n",
       "      <th>2020-12-31</th>\n",
       "      <td>100</td>\n",
       "      <td>99</td>\n",
       "      <td>1.03</td>\n",
       "      <td>1.03</td>\n",
       "      <td>1.03</td>\n",
       "      <td>overcast clouds</td>\n",
       "      <td>http://openweathermap.org/img/w/10d.png</td>\n",
       "      <td>0.43</td>\n",
       "    </tr>\n",
       "    <tr>\n",
       "      <th>2021-01-01</th>\n",
       "      <td>100</td>\n",
       "      <td>99</td>\n",
       "      <td>0.48</td>\n",
       "      <td>0.48</td>\n",
       "      <td>0.48</td>\n",
       "      <td>snow</td>\n",
       "      <td>http://openweathermap.org/img/w/13d.png</td>\n",
       "      <td>0.40</td>\n",
       "    </tr>\n",
       "  </tbody>\n",
       "</table>\n",
       "</div>"
      ],
      "text/plain": [
       "            clouds  humidity   temp  temp_max  temp_min   detailed_status  \\\n",
       "2020-12-27      38        87 -10.53    -10.53    -14.57  scattered clouds   \n",
       "2020-12-28      82        96 -10.58    -10.58    -10.58  scattered clouds   \n",
       "2020-12-29     100        97  -5.77     -5.77     -5.77  scattered clouds   \n",
       "2020-12-30     100        99   0.96      0.96      0.96   overcast clouds   \n",
       "2020-12-31     100        99   1.03      1.03      1.03   overcast clouds   \n",
       "2021-01-01     100        99   0.48      0.48      0.48              snow   \n",
       "\n",
       "                                           icon_url  rain_vol  \n",
       "2020-12-27  http://openweathermap.org/img/w/03n.png      0.00  \n",
       "2020-12-28  http://openweathermap.org/img/w/04n.png      0.00  \n",
       "2020-12-29  http://openweathermap.org/img/w/13n.png      0.00  \n",
       "2020-12-30  http://openweathermap.org/img/w/13n.png      0.25  \n",
       "2020-12-31  http://openweathermap.org/img/w/10d.png      0.43  \n",
       "2021-01-01  http://openweathermap.org/img/w/13d.png      0.40  "
      ]
     },
     "execution_count": 10,
     "metadata": {},
     "output_type": "execute_result"
    }
   ],
   "source": [
    "# for max\n",
    "df_max = df.resample('D', on='datetime').max()\n",
    "df_max.index = df_max.index.date\n",
    "df_max.drop('datetime', axis=1, inplace=True)\n",
    "\n",
    "df_max"
   ]
  },
  {
   "cell_type": "code",
   "execution_count": 11,
   "metadata": {
    "execution": {
     "iopub.execute_input": "2020-12-27T18:42:54.744387Z",
     "iopub.status.busy": "2020-12-27T18:42:54.742421Z",
     "iopub.status.idle": "2020-12-27T18:42:54.753480Z",
     "shell.execute_reply": "2020-12-27T18:42:54.754504Z"
    },
    "papermill": {
     "duration": 0.041999,
     "end_time": "2020-12-27T18:42:54.754504",
     "exception": false,
     "start_time": "2020-12-27T18:42:54.712505",
     "status": "completed"
    },
    "tags": []
   },
   "outputs": [
    {
     "data": {
      "text/html": [
       "<div>\n",
       "<style scoped>\n",
       "    .dataframe tbody tr th:only-of-type {\n",
       "        vertical-align: middle;\n",
       "    }\n",
       "\n",
       "    .dataframe tbody tr th {\n",
       "        vertical-align: top;\n",
       "    }\n",
       "\n",
       "    .dataframe thead th {\n",
       "        text-align: right;\n",
       "    }\n",
       "</style>\n",
       "<table border=\"1\" class=\"dataframe\">\n",
       "  <thead>\n",
       "    <tr style=\"text-align: right;\">\n",
       "      <th></th>\n",
       "      <th>clouds</th>\n",
       "      <th>humidity</th>\n",
       "      <th>temp</th>\n",
       "      <th>temp_max</th>\n",
       "      <th>temp_min</th>\n",
       "      <th>detailed_status</th>\n",
       "      <th>icon_url</th>\n",
       "      <th>rain_vol</th>\n",
       "    </tr>\n",
       "  </thead>\n",
       "  <tbody>\n",
       "    <tr>\n",
       "      <th>2020-12-27</th>\n",
       "      <td>38</td>\n",
       "      <td>87</td>\n",
       "      <td>-10.53</td>\n",
       "      <td>-10.53</td>\n",
       "      <td>-14.57</td>\n",
       "      <td>scattered clouds</td>\n",
       "      <td>http://openweathermap.org/img/w/03n.png</td>\n",
       "      <td>0.0</td>\n",
       "    </tr>\n",
       "    <tr>\n",
       "      <th>2020-12-28</th>\n",
       "      <td>4</td>\n",
       "      <td>91</td>\n",
       "      <td>-13.95</td>\n",
       "      <td>-13.95</td>\n",
       "      <td>-14.19</td>\n",
       "      <td>broken clouds</td>\n",
       "      <td>http://openweathermap.org/img/w/01d.png</td>\n",
       "      <td>0.0</td>\n",
       "    </tr>\n",
       "    <tr>\n",
       "      <th>2020-12-29</th>\n",
       "      <td>48</td>\n",
       "      <td>94</td>\n",
       "      <td>-14.74</td>\n",
       "      <td>-14.74</td>\n",
       "      <td>-14.74</td>\n",
       "      <td>broken clouds</td>\n",
       "      <td>http://openweathermap.org/img/w/03n.png</td>\n",
       "      <td>0.0</td>\n",
       "    </tr>\n",
       "    <tr>\n",
       "      <th>2020-12-30</th>\n",
       "      <td>99</td>\n",
       "      <td>97</td>\n",
       "      <td>-4.42</td>\n",
       "      <td>-4.42</td>\n",
       "      <td>-4.42</td>\n",
       "      <td>light rain</td>\n",
       "      <td>http://openweathermap.org/img/w/04d.png</td>\n",
       "      <td>0.0</td>\n",
       "    </tr>\n",
       "    <tr>\n",
       "      <th>2020-12-31</th>\n",
       "      <td>100</td>\n",
       "      <td>96</td>\n",
       "      <td>-1.53</td>\n",
       "      <td>-1.53</td>\n",
       "      <td>-1.53</td>\n",
       "      <td>light rain</td>\n",
       "      <td>http://openweathermap.org/img/w/04d.png</td>\n",
       "      <td>0.0</td>\n",
       "    </tr>\n",
       "    <tr>\n",
       "      <th>2021-01-01</th>\n",
       "      <td>100</td>\n",
       "      <td>97</td>\n",
       "      <td>-1.26</td>\n",
       "      <td>-1.26</td>\n",
       "      <td>-1.26</td>\n",
       "      <td>light rain</td>\n",
       "      <td>http://openweathermap.org/img/w/04d.png</td>\n",
       "      <td>0.0</td>\n",
       "    </tr>\n",
       "  </tbody>\n",
       "</table>\n",
       "</div>"
      ],
      "text/plain": [
       "            clouds  humidity   temp  temp_max  temp_min   detailed_status  \\\n",
       "2020-12-27      38        87 -10.53    -10.53    -14.57  scattered clouds   \n",
       "2020-12-28       4        91 -13.95    -13.95    -14.19     broken clouds   \n",
       "2020-12-29      48        94 -14.74    -14.74    -14.74     broken clouds   \n",
       "2020-12-30      99        97  -4.42     -4.42     -4.42        light rain   \n",
       "2020-12-31     100        96  -1.53     -1.53     -1.53        light rain   \n",
       "2021-01-01     100        97  -1.26     -1.26     -1.26        light rain   \n",
       "\n",
       "                                           icon_url  rain_vol  \n",
       "2020-12-27  http://openweathermap.org/img/w/03n.png       0.0  \n",
       "2020-12-28  http://openweathermap.org/img/w/01d.png       0.0  \n",
       "2020-12-29  http://openweathermap.org/img/w/03n.png       0.0  \n",
       "2020-12-30  http://openweathermap.org/img/w/04d.png       0.0  \n",
       "2020-12-31  http://openweathermap.org/img/w/04d.png       0.0  \n",
       "2021-01-01  http://openweathermap.org/img/w/04d.png       0.0  "
      ]
     },
     "execution_count": 11,
     "metadata": {},
     "output_type": "execute_result"
    }
   ],
   "source": [
    "# for min\n",
    "df_min = df.resample('D', on='datetime').min()\n",
    "df_min.index = df_min.index.date\n",
    "df_min.drop('datetime', axis=1, inplace=True)\n",
    "df_min"
   ]
  },
  {
   "cell_type": "code",
   "execution_count": 12,
   "metadata": {
    "execution": {
     "iopub.execute_input": "2020-12-27T18:42:54.798360Z",
     "iopub.status.busy": "2020-12-27T18:42:54.798360Z",
     "iopub.status.idle": "2020-12-27T18:42:54.802349Z",
     "shell.execute_reply": "2020-12-27T18:42:54.801363Z"
    },
    "papermill": {
     "duration": 0.031914,
     "end_time": "2020-12-27T18:42:54.802349",
     "exception": false,
     "start_time": "2020-12-27T18:42:54.770435",
     "status": "completed"
    },
    "tags": []
   },
   "outputs": [
    {
     "data": {
      "text/html": [
       "<div>\n",
       "<style scoped>\n",
       "    .dataframe tbody tr th:only-of-type {\n",
       "        vertical-align: middle;\n",
       "    }\n",
       "\n",
       "    .dataframe tbody tr th {\n",
       "        vertical-align: top;\n",
       "    }\n",
       "\n",
       "    .dataframe thead th {\n",
       "        text-align: right;\n",
       "    }\n",
       "</style>\n",
       "<table border=\"1\" class=\"dataframe\">\n",
       "  <thead>\n",
       "    <tr style=\"text-align: right;\">\n",
       "      <th></th>\n",
       "      <th>temp_min</th>\n",
       "      <th>temp_max</th>\n",
       "      <th>temp_mean</th>\n",
       "    </tr>\n",
       "  </thead>\n",
       "  <tbody>\n",
       "    <tr>\n",
       "      <th>2020-12-27</th>\n",
       "      <td>-10.53</td>\n",
       "      <td>-10.53</td>\n",
       "      <td>-10.530000</td>\n",
       "    </tr>\n",
       "    <tr>\n",
       "      <th>2020-12-28</th>\n",
       "      <td>-13.95</td>\n",
       "      <td>-10.58</td>\n",
       "      <td>-12.761250</td>\n",
       "    </tr>\n",
       "    <tr>\n",
       "      <th>2020-12-29</th>\n",
       "      <td>-14.74</td>\n",
       "      <td>-5.77</td>\n",
       "      <td>-10.923750</td>\n",
       "    </tr>\n",
       "    <tr>\n",
       "      <th>2020-12-30</th>\n",
       "      <td>-4.42</td>\n",
       "      <td>0.96</td>\n",
       "      <td>-1.825000</td>\n",
       "    </tr>\n",
       "    <tr>\n",
       "      <th>2020-12-31</th>\n",
       "      <td>-1.53</td>\n",
       "      <td>1.03</td>\n",
       "      <td>-0.061250</td>\n",
       "    </tr>\n",
       "    <tr>\n",
       "      <th>2021-01-01</th>\n",
       "      <td>-1.26</td>\n",
       "      <td>0.48</td>\n",
       "      <td>-0.405714</td>\n",
       "    </tr>\n",
       "  </tbody>\n",
       "</table>\n",
       "</div>"
      ],
      "text/plain": [
       "            temp_min  temp_max  temp_mean\n",
       "2020-12-27    -10.53    -10.53 -10.530000\n",
       "2020-12-28    -13.95    -10.58 -12.761250\n",
       "2020-12-29    -14.74     -5.77 -10.923750\n",
       "2020-12-30     -4.42      0.96  -1.825000\n",
       "2020-12-31     -1.53      1.03  -0.061250\n",
       "2021-01-01     -1.26      0.48  -0.405714"
      ]
     },
     "execution_count": 12,
     "metadata": {},
     "output_type": "execute_result"
    }
   ],
   "source": [
    "# Create a Dataframe with temperature values (min, max, average) by merging on index\n",
    "df_temp = df_min[['temp']].merge(df_max[['temp']], \n",
    "                                 left_index=True, \n",
    "                                 right_index=True, \n",
    "                                 suffixes=('_min', '_max')).merge(df_mean[['temp']],\n",
    "                                                                  left_index=True, \n",
    "                                                                  right_index=True)\n",
    "# Rename columns\n",
    "df_temp.columns = ['temp_min', 'temp_max', 'temp_mean']\n",
    "df_temp"
   ]
  },
  {
   "cell_type": "markdown",
   "metadata": {
    "papermill": {
     "duration": 0.015962,
     "end_time": "2020-12-27T18:42:54.833299",
     "exception": false,
     "start_time": "2020-12-27T18:42:54.817337",
     "status": "completed"
    },
    "tags": []
   },
   "source": [
    "# Часть 2: получение метеоданных через PyOWM API\n",
    "\n",
    "Во второй части рабочего процесса мы объединяем данные по дням, а затем визуализируем информацию на двух графиках. Первый график показывает температурные данные, а второй — осадки, облачность и влажность.\n",
    "\n",
    "## 2. Создание визуализации\n",
    "\n",
    "На этом этапе мы будем создавать графики из структурированных данных через `seaborn`.\n",
    "\n",
    "## 2.1. Температурный график\n",
    "График показывает метеопрогноз с максимальной, минимальной и средней температурой на ближайшие 5 дней.\n",
    "\n",
    "### Создание графика температур на ближайшие 5 дней"
   ]
  },
  {
   "cell_type": "code",
   "execution_count": 13,
   "metadata": {
    "execution": {
     "iopub.execute_input": "2020-12-27T18:42:54.871168Z",
     "iopub.status.busy": "2020-12-27T18:42:54.871168Z",
     "iopub.status.idle": "2020-12-27T18:42:55.814323Z",
     "shell.execute_reply": "2020-12-27T18:42:55.814323Z"
    },
    "papermill": {
     "duration": 0.965066,
     "end_time": "2020-12-27T18:42:55.814323",
     "exception": false,
     "start_time": "2020-12-27T18:42:54.849257",
     "status": "completed"
    },
    "tags": []
   },
   "outputs": [
    {
     "name": "stderr",
     "output_type": "stream",
     "text": [
      "<ipython-input-13-ebb8aceacb92>:6: UserWarning: FixedFormatter should only be used together with FixedLocator\n",
      "  sns_plot.set_xticklabels(df_temp.index, rotation=20)\n"
     ]
    },
    {
     "data": {
      "image/png": "[encoded data removed]",
      "text/plain": [
       "<Figure size 864x432 with 1 Axes>"
      ]
     },
     "metadata": {
      "needs_background": "light"
     },
     "output_type": "display_data"
    }
   ],
   "source": [
    "fig = plt.figure()\n",
    "sns_plot = sns.lineplot(data=df_temp,markers=True, dashes=False)\n",
    "sns_plot.set_title(f'Temperature forecast for the next 5 days', fontsize=20)\n",
    "sns_plot.set_xlabel('Date', fontsize=14)\n",
    "sns_plot.set_ylabel('Temperature Celsius', fontsize=14)\n",
    "sns_plot.set_xticklabels(df_temp.index, rotation=20)\n",
    "sns_plot.grid(True)\n",
    "\n",
    "sns_plot.legend(labels=['Min. Temperature', 'Max Temperature', 'Average Temperature'])\n",
    "fig.set_size_inches(12, 6)\n",
    "\n",
    "temperature_plot = f\"{city.split(',')[0].replace(' ','_')}_temperature.png\"\n",
    "sns_plot.figure.savefig(temperature_plot, \n",
    "                  dpi=300, facecolor='w', \n",
    "                  orientation='portrait',\n",
    "                  bbox_inches='tight')"
   ]
  },
  {
   "cell_type": "markdown",
   "metadata": {
    "papermill": {
     "duration": 0.015986,
     "end_time": "2020-12-27T18:42:55.847492",
     "exception": false,
     "start_time": "2020-12-27T18:42:55.831506",
     "status": "completed"
    },
    "tags": []
   },
   "source": [
    "## 2.2. График влажности, осадков и облачности\n",
    "\n",
    "В этом графике мы объединяем данные об осадках и влажности.\n",
    "\n",
    "### Создание `Dataframe` с ожидаемым объемом осадков по дням:"
   ]
  },
  {
   "cell_type": "code",
   "execution_count": 14,
   "metadata": {
    "execution": {
     "iopub.execute_input": "2020-12-27T18:42:55.887395Z",
     "iopub.status.busy": "2020-12-27T18:42:55.886411Z",
     "iopub.status.idle": "2020-12-27T18:42:55.890350Z",
     "shell.execute_reply": "2020-12-27T18:42:55.890350Z"
    },
    "papermill": {
     "duration": 0.0269,
     "end_time": "2020-12-27T18:42:55.890350",
     "exception": false,
     "start_time": "2020-12-27T18:42:55.863450",
     "status": "completed"
    },
    "tags": []
   },
   "outputs": [],
   "source": [
    "df_rain_per_day = df.resample('D', on='datetime').sum()[['rain_vol']]\n",
    "df_rain_per_day.index = df_rain_per_day.index.date"
   ]
  },
  {
   "cell_type": "code",
   "execution_count": 15,
   "metadata": {
    "execution": {
     "iopub.execute_input": "2020-12-27T18:42:55.941214Z",
     "iopub.status.busy": "2020-12-27T18:42:55.940266Z",
     "iopub.status.idle": "2020-12-27T18:42:56.866286Z",
     "shell.execute_reply": "2020-12-27T18:42:56.865289Z"
    },
    "papermill": {
     "duration": 0.960976,
     "end_time": "2020-12-27T18:42:56.866286",
     "exception": false,
     "start_time": "2020-12-27T18:42:55.905310",
     "status": "completed"
    },
    "tags": []
   },
   "outputs": [
    {
     "data": {
      "image/png": "[encoded data removed]",
      "text/plain": [
       "<Figure size 864x432 with 2 Axes>"
      ]
     },
     "metadata": {
      "needs_background": "light"
     },
     "output_type": "display_data"
    }
   ],
   "source": [
    "fig = plt.figure()\n",
    "# Линейный график влажности и облачности:\n",
    "ax1 = fig.add_subplot(211)\n",
    "ax1 = sns.lineplot(data=df_mean[['clouds', 'humidity']], markers=True, dashes=False)\n",
    "ax1.set_xticks([])\n",
    "ax1.set_title(f'Expected humidity and rain volume for the next 5 days', fontsize=20)\n",
    "ax1.set_ylabel('Percentage', fontsize=14)\n",
    "ax1.grid(True)\n",
    "\n",
    "# Столбцы с общим объемом осадков по дням:\n",
    "ax2 = fig.add_subplot(212)\n",
    "ax2 = sns.barplot(x=df_rain_per_day.index, y='rain_vol', \n",
    "                  data=df_rain_per_day,\n",
    "                  palette=\"Blues_d\")\n",
    "ax2.set_xticklabels(df_temp.index, rotation=30)\n",
    "ax2.set_ylabel('Total Rain Volume in mm', fontsize=14)\n",
    "ax2.set_xlabel('Date', fontsize=14)\n",
    "fig.set_size_inches(12, 6)\n",
    "\n",
    "rain_humidity_plot = f\"{city.split(',')[0].replace(' ','_')}_rain_humidity.png\"\n",
    "fig.savefig(rain_humidity_plot, \n",
    "              dpi=300, facecolor='w', \n",
    "              orientation='portrait',\n",
    "              bbox_inches='tight')"
   ]
  },
  {
   "cell_type": "markdown",
   "metadata": {
    "papermill": {
     "duration": 0.016954,
     "end_time": "2020-12-27T18:42:56.900222",
     "exception": false,
     "start_time": "2020-12-27T18:42:56.883268",
     "status": "completed"
    },
    "tags": []
   },
   "source": [
    "# Часть 3: создание прогноза погоды в PDF\n",
    "На последнем этапе рабочего процесса мы создаем общую метеорологическую сводку с использованием данных по городу и информации из графиков. Здесь нам понадобится библиотека `pdfkit`. С ее помощью мы сможем преобразовать HTML-шаблон в PDF-файл.\n",
    "\n",
    "## 3. Создание метеосводки\n",
    "На этом этапе рабочего процесса мы воспользуемся простым HTML-шаблоном и на его основе создадим итоговый отчет, куда добавим информацию о выбранном городе и наши графики.\n",
    "### Задаем начальные и конечные даты для анализа:"
   ]
  },
  {
   "cell_type": "code",
   "execution_count": 16,
   "metadata": {
    "execution": {
     "iopub.execute_input": "2020-12-27T18:42:56.938266Z",
     "iopub.status.busy": "2020-12-27T18:42:56.938266Z",
     "iopub.status.idle": "2020-12-27T18:42:56.940260Z",
     "shell.execute_reply": "2020-12-27T18:42:56.940260Z"
    },
    "papermill": {
     "duration": 0.023081,
     "end_time": "2020-12-27T18:42:56.940260",
     "exception": false,
     "start_time": "2020-12-27T18:42:56.917179",
     "status": "completed"
    },
    "tags": []
   },
   "outputs": [],
   "source": [
    "today = str(df_mean.index.min()).replace('-', '/')\n",
    "last_day = str(df_mean.index.max()).replace('-', '/')"
   ]
  },
  {
   "cell_type": "markdown",
   "metadata": {
    "papermill": {
     "duration": 0.016976,
     "end_time": "2020-12-27T18:42:56.975187",
     "exception": false,
     "start_time": "2020-12-27T18:42:56.958211",
     "status": "completed"
    },
    "tags": []
   },
   "source": [
    "### HTML-шаблон для добавления данных и графиков:"
   ]
  },
  {
   "cell_type": "code",
   "execution_count": 17,
   "metadata": {
    "execution": {
     "iopub.execute_input": "2020-12-27T18:42:57.014557Z",
     "iopub.status.busy": "2020-12-27T18:42:57.013580Z",
     "iopub.status.idle": "2020-12-27T18:42:57.017549Z",
     "shell.execute_reply": "2020-12-27T18:42:57.018548Z"
    },
    "papermill": {
     "duration": 0.024937,
     "end_time": "2020-12-27T18:42:57.018548",
     "exception": false,
     "start_time": "2020-12-27T18:42:56.993611",
     "status": "completed"
    },
    "tags": []
   },
   "outputs": [],
   "source": [
    "report_template = f'''\n",
    "<!DOCTYPE html>\n",
    "    <html>\n",
    "      <head>\n",
    "        <meta charset='utf-8'>\n",
    "        <title>Weather Forecast with PyOWM</title>\n",
    "        <link rel='stylesheet' href='report.css'>\n",
    "          <style>\n",
    "          h1 {{\n",
    "          font-family: Arial;\n",
    "          font-size: 300%;\n",
    "          }}\n",
    "          h2 {{\n",
    "          font-family: Arial;\n",
    "          font-size: 200%;\n",
    "          }}\n",
    "          @page {{\n",
    "          size: 7in 9.25in;\n",
    "          margin: 27mm 16mm 27mm 16mm;\n",
    "          }}\n",
    "          </style>                       \n",
    "      </head>\n",
    "      <h1 align=\"center\">Weather forecast for {city}</h1>\n",
    "      <h2 align=\"center\">Initial date: {today}</h2>\n",
    "      <h2 align=\"center\">Final date: {last_day}</h2>\n",
    "        \n",
    "      <figure>\n",
    "        <img src=\"{temperature_plot}\" width=\"1200\" height=\"600\">\n",
    "      </figure>\n",
    "      <figure>\n",
    "        <img src=\"{rain_humidity_plot}\" width=\"1200\" height=\"600\">\n",
    "      </figure>      \n",
    "    </html>\n",
    "'''"
   ]
  },
  {
   "cell_type": "markdown",
   "metadata": {
    "papermill": {
     "duration": 0.021942,
     "end_time": "2020-12-27T18:42:57.063428",
     "exception": false,
     "start_time": "2020-12-27T18:42:57.041486",
     "status": "completed"
    },
    "tags": []
   },
   "source": [
    "### Сохранение HTML-строки в файл:"
   ]
  },
  {
   "cell_type": "code",
   "execution_count": 18,
   "metadata": {
    "execution": {
     "iopub.execute_input": "2020-12-27T18:42:57.104317Z",
     "iopub.status.busy": "2020-12-27T18:42:57.103320Z",
     "iopub.status.idle": "2020-12-27T18:42:57.107309Z",
     "shell.execute_reply": "2020-12-27T18:42:57.106312Z"
    },
    "papermill": {
     "duration": 0.024921,
     "end_time": "2020-12-27T18:42:57.107309",
     "exception": false,
     "start_time": "2020-12-27T18:42:57.082388",
     "status": "completed"
    },
    "tags": []
   },
   "outputs": [],
   "source": [
    "html_report = f\"{city.split(',')[0].replace(' ','_')}_report.html\"\n",
    "with open(html_report, \"w\") as r:\n",
    "    r.write(report_template)"
   ]
  },
  {
   "cell_type": "markdown",
   "metadata": {
    "papermill": {
     "duration": 0.016984,
     "end_time": "2020-12-27T18:42:57.142102",
     "exception": false,
     "start_time": "2020-12-27T18:42:57.125118",
     "status": "completed"
    },
    "tags": []
   },
   "source": [
    "### Использование `pdfkit` для создания графика в PDF:"
   ]
  },
  {
   "cell_type": "code",
   "execution_count": 19,
   "metadata": {
    "execution": {
     "iopub.execute_input": "2020-12-27T18:42:57.181998Z",
     "iopub.status.busy": "2020-12-27T18:42:57.180971Z",
     "iopub.status.idle": "2020-12-27T18:42:58.606560Z",
     "shell.execute_reply": "2020-12-27T18:42:58.606560Z"
    },
    "papermill": {
     "duration": 1.447499,
     "end_time": "2020-12-27T18:42:58.606560",
     "exception": false,
     "start_time": "2020-12-27T18:42:57.159061",
     "status": "completed"
    },
    "tags": []
   },
   "outputs": [
    {
     "name": "stdout",
     "output_type": "stream",
     "text": [
      "Loading pages (1/6)\r\n",
      "[>                                                           ] 0%\r",
      "[======>                                                     ] 10%\r",
      "[======>                                                     ] 11%\r",
      "Warning: Failed to load file:///C:/Users/Veronika/Documents/report.css (ignore)\r\n",
      "[===========================>                                ] 46%\r",
      "[==============================>                             ] 50%\r",
      "[============================================================] 100%\r",
      "Counting pages (2/6)                                               \r\n",
      "[============================================================] Object 1 of 1\r",
      "Resolving links (4/6)                                                       \r\n",
      "[============================================================] Object 1 of 1\r",
      "Loading headers and footers (5/6)                                           \r\n",
      "Printing pages (6/6)\r\n",
      "[>                                                           ] Preparing\r",
      "[============================================================] Page 1 of 1\r",
      "Done                                                                      \r\n"
     ]
    },
    {
     "data": {
      "text/plain": [
       "True"
      ]
     },
     "execution_count": 19,
     "metadata": {},
     "output_type": "execute_result"
    }
   ],
   "source": [
    "pdfkit.from_file(html_report, f\"{city.split(',')[0].replace(' ', '_')}_weather_report_for.pdf\")"
   ]
  },
  {
   "cell_type": "code",
   "execution_count": null,
   "metadata": {
    "papermill": {
     "duration": 0.020955,
     "end_time": "2020-12-27T18:42:58.647463",
     "exception": false,
     "start_time": "2020-12-27T18:42:58.626508",
     "status": "completed"
    },
    "tags": []
   },
   "outputs": [],
   "source": []
  }
 ],
 "metadata": {
  "celltoolbar": "Tags",
  "kernelspec": {
   "display_name": "Python 3",
   "language": "python",
   "name": "python3"
  },
  "language_info": {
   "codemirror_mode": {
    "name": "ipython",
    "version": 3
   },
   "file_extension": ".py",
   "mimetype": "text/x-python",
   "name": "python",
   "nbconvert_exporter": "python",
   "pygments_lexer": "ipython3",
   "version": "3.8.5"
  },
  "papermill": {
   "default_parameters": {},
   "duration": 9.392504,
   "end_time": "2020-12-27T18:42:59.936851",
   "environment_variables": {},
   "exception": null,
   "input_path": "weather_forecast_using_pyowm.ipynb",
   "output_path": "weather_forecast_using_pyowm_output.ipynb",
   "parameters": {
    "city": "Moscow, RU"
   },
   "start_time": "2020-12-27T18:42:50.544347",
   "version": "2.2.2"
  }
 },
 "nbformat": 4,
 "nbformat_minor": 4
}