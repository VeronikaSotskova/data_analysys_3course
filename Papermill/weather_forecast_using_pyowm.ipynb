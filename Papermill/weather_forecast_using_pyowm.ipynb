{
 "cells": [
  {
   "cell_type": "markdown",
   "metadata": {},
   "source": [
    "# Часть 1:получение метеоданных через PyOWM API\n",
    "\n",
    "## 1. Доступ к pyown API\n",
    "\n",
    "На первом этапе анализа мы получаем метеоданные по выбранному городу через `pyown API`.\n",
    "Эта информация структурируется в словаре, а затем загружается в виде `DataFrame Pandas` для выполнения первичной обработки.\n",
    "\n",
    "### импорт библиотек"
   ]
  },
  {
   "cell_type": "code",
   "execution_count": 1,
   "metadata": {},
   "outputs": [],
   "source": [
    "import pyowm\n",
    "import pandas as pd\n",
    "import seaborn as sns\n",
    "import matplotlib.pyplot as plt\n",
    "import pdfkit"
   ]
  },
  {
   "cell_type": "markdown",
   "metadata": {},
   "source": [
    "## 1.1. Установка API-ключа PyOWM и определение переменных\n",
    "\n",
    "Здесь мы определяем API-ключ для доступа к сервису `OpenWeather`, а также ячейку с параметром `city` , которая прописывается в `Papermill`.\n",
    "\n",
    "### Установка API-ключа"
   ]
  },
  {
   "cell_type": "code",
   "execution_count": 2,
   "metadata": {},
   "outputs": [],
   "source": [
    "owm = pyowm.OWM('43230e425309640f29960a123f537173')"
   ]
  },
  {
   "cell_type": "markdown",
   "metadata": {},
   "source": [
    "### Определение параметров по умолчанию:"
   ]
  },
  {
   "cell_type": "code",
   "execution_count": 3,
   "metadata": {
    "tags": [
     "parameters"
    ]
   },
   "outputs": [],
   "source": [
    "city = 'Sao Paulo,BR'"
   ]
  },
  {
   "cell_type": "markdown",
   "metadata": {},
   "source": [
    "## 1.2. Получение метеоданных по определенному городу\n",
    "\n",
    "На данном этапе мы используем PyOWM для получения данных о городе и структурирования их сначала в словаре, а затем в `DataFrame`.\n",
    "\n",
    "###  Инстанцирование объекта `forecast` и получение метеоданных о городе:"
   ]
  },
  {
   "cell_type": "code",
   "execution_count": 4,
   "metadata": {},
   "outputs": [],
   "source": [
    "fc = owm.three_hours_forecast(city)\n",
    "forecast = fc.get_forecast()"
   ]
  },
  {
   "cell_type": "markdown",
   "metadata": {},
   "source": [
    "### Создание словаря для структурирования метеоданных по выбранному городу:"
   ]
  },
  {
   "cell_type": "code",
   "execution_count": 5,
   "metadata": {},
   "outputs": [],
   "source": [
    "dict_forecast = {\n",
    " 'datetime':[],\n",
    " 'clouds':[],\n",
    " 'humidity':[],\n",
    " 'temp':[],\n",
    " 'temp_max':[],\n",
    " 'temp_min':[],\n",
    " 'detailed_status':[],\n",
    " 'icon_url':[],\n",
    " 'rain_vol':[]\n",
    "}"
   ]
  },
  {
   "cell_type": "markdown",
   "metadata": {},
   "source": [
    "### Перебор объекта `forecast` для доступа к метеорологическим характеристикам (опциям):"
   ]
  },
  {
   "cell_type": "code",
   "execution_count": 6,
   "metadata": {},
   "outputs": [],
   "source": [
    "for weather in forecast:\n",
    "    dict_forecast['datetime'].append(str(weather.get_reference_time(timeformat='iso')))\n",
    "    dict_forecast['clouds'].append(weather.get_clouds())    \n",
    "    dict_forecast['humidity'].append(weather.get_humidity())\n",
    "    dict_forecast['temp'].append(weather.get_temperature(unit='celsius').get('temp'))\n",
    "    dict_forecast['temp_max'].append(weather.get_temperature(unit='celsius').get('temp_max'))\n",
    "    dict_forecast['temp_min'].append(weather.get_temperature(unit='celsius').get('temp_min'))\n",
    "    dict_forecast['detailed_status'].append(weather.get_detailed_status())\n",
    "    dict_forecast['icon_url'].append(weather.get_weather_icon_url())\n",
    "    if '3h' in weather.get_rain().keys():\n",
    "        dict_forecast['rain_vol'].append(weather.get_rain().get('3h'))\n",
    "    else:\n",
    "        dict_forecast['rain_vol'].append(0)"
   ]
  },
  {
   "cell_type": "markdown",
   "metadata": {},
   "source": [
    "### Создание `Dataframe` из словаря:"
   ]
  },
  {
   "cell_type": "code",
   "execution_count": 7,
   "metadata": {},
   "outputs": [
    {
     "data": {
      "text/html": [
       "<div>\n",
       "<style scoped>\n",
       "    .dataframe tbody tr th:only-of-type {\n",
       "        vertical-align: middle;\n",
       "    }\n",
       "\n",
       "    .dataframe tbody tr th {\n",
       "        vertical-align: top;\n",
       "    }\n",
       "\n",
       "    .dataframe thead th {\n",
       "        text-align: right;\n",
       "    }\n",
       "</style>\n",
       "<table border=\"1\" class=\"dataframe\">\n",
       "  <thead>\n",
       "    <tr style=\"text-align: right;\">\n",
       "      <th></th>\n",
       "      <th>datetime</th>\n",
       "      <th>clouds</th>\n",
       "      <th>humidity</th>\n",
       "      <th>temp</th>\n",
       "      <th>temp_max</th>\n",
       "      <th>temp_min</th>\n",
       "      <th>detailed_status</th>\n",
       "      <th>icon_url</th>\n",
       "      <th>rain_vol</th>\n",
       "    </tr>\n",
       "  </thead>\n",
       "  <tbody>\n",
       "    <tr>\n",
       "      <th>0</th>\n",
       "      <td>2020-12-27 21:00:00+00:00</td>\n",
       "      <td>66</td>\n",
       "      <td>75</td>\n",
       "      <td>23.36</td>\n",
       "      <td>23.36</td>\n",
       "      <td>22.54</td>\n",
       "      <td>moderate rain</td>\n",
       "      <td>http://openweathermap.org/img/w/10d.png</td>\n",
       "      <td>7.37</td>\n",
       "    </tr>\n",
       "    <tr>\n",
       "      <th>1</th>\n",
       "      <td>2020-12-28 00:00:00+00:00</td>\n",
       "      <td>85</td>\n",
       "      <td>80</td>\n",
       "      <td>21.74</td>\n",
       "      <td>21.74</td>\n",
       "      <td>21.07</td>\n",
       "      <td>heavy intensity rain</td>\n",
       "      <td>http://openweathermap.org/img/w/10n.png</td>\n",
       "      <td>14.82</td>\n",
       "    </tr>\n",
       "    <tr>\n",
       "      <th>2</th>\n",
       "      <td>2020-12-28 03:00:00+00:00</td>\n",
       "      <td>96</td>\n",
       "      <td>76</td>\n",
       "      <td>21.07</td>\n",
       "      <td>21.07</td>\n",
       "      <td>20.86</td>\n",
       "      <td>light rain</td>\n",
       "      <td>http://openweathermap.org/img/w/10n.png</td>\n",
       "      <td>0.59</td>\n",
       "    </tr>\n",
       "    <tr>\n",
       "      <th>3</th>\n",
       "      <td>2020-12-28 06:00:00+00:00</td>\n",
       "      <td>100</td>\n",
       "      <td>81</td>\n",
       "      <td>20.16</td>\n",
       "      <td>20.16</td>\n",
       "      <td>20.13</td>\n",
       "      <td>overcast clouds</td>\n",
       "      <td>http://openweathermap.org/img/w/04n.png</td>\n",
       "      <td>0.00</td>\n",
       "    </tr>\n",
       "    <tr>\n",
       "      <th>4</th>\n",
       "      <td>2020-12-28 09:00:00+00:00</td>\n",
       "      <td>15</td>\n",
       "      <td>82</td>\n",
       "      <td>19.97</td>\n",
       "      <td>19.97</td>\n",
       "      <td>19.97</td>\n",
       "      <td>light rain</td>\n",
       "      <td>http://openweathermap.org/img/w/10d.png</td>\n",
       "      <td>0.25</td>\n",
       "    </tr>\n",
       "  </tbody>\n",
       "</table>\n",
       "</div>"
      ],
      "text/plain": [
       "                   datetime  clouds  humidity   temp  temp_max  temp_min  \\\n",
       "0 2020-12-27 21:00:00+00:00      66        75  23.36     23.36     22.54   \n",
       "1 2020-12-28 00:00:00+00:00      85        80  21.74     21.74     21.07   \n",
       "2 2020-12-28 03:00:00+00:00      96        76  21.07     21.07     20.86   \n",
       "3 2020-12-28 06:00:00+00:00     100        81  20.16     20.16     20.13   \n",
       "4 2020-12-28 09:00:00+00:00      15        82  19.97     19.97     19.97   \n",
       "\n",
       "        detailed_status                                 icon_url  rain_vol  \n",
       "0         moderate rain  http://openweathermap.org/img/w/10d.png      7.37  \n",
       "1  heavy intensity rain  http://openweathermap.org/img/w/10n.png     14.82  \n",
       "2            light rain  http://openweathermap.org/img/w/10n.png      0.59  \n",
       "3       overcast clouds  http://openweathermap.org/img/w/04n.png      0.00  \n",
       "4            light rain  http://openweathermap.org/img/w/10d.png      0.25  "
      ]
     },
     "execution_count": 7,
     "metadata": {},
     "output_type": "execute_result"
    }
   ],
   "source": [
    "df = pd.DataFrame.from_dict(dict_forecast)\n",
    "\n",
    "# Set dtype to datetime for 'datetime' column \n",
    "df['datetime'] = pd.to_datetime(df['datetime'])\n",
    "\n",
    "df.head()"
   ]
  },
  {
   "cell_type": "code",
   "execution_count": 8,
   "metadata": {},
   "outputs": [
    {
     "data": {
      "text/html": [
       "<div>\n",
       "<style scoped>\n",
       "    .dataframe tbody tr th:only-of-type {\n",
       "        vertical-align: middle;\n",
       "    }\n",
       "\n",
       "    .dataframe tbody tr th {\n",
       "        vertical-align: top;\n",
       "    }\n",
       "\n",
       "    .dataframe thead th {\n",
       "        text-align: right;\n",
       "    }\n",
       "</style>\n",
       "<table border=\"1\" class=\"dataframe\">\n",
       "  <thead>\n",
       "    <tr style=\"text-align: right;\">\n",
       "      <th></th>\n",
       "      <th>clouds</th>\n",
       "      <th>humidity</th>\n",
       "      <th>temp</th>\n",
       "      <th>temp_max</th>\n",
       "      <th>temp_min</th>\n",
       "      <th>rain_vol</th>\n",
       "    </tr>\n",
       "  </thead>\n",
       "  <tbody>\n",
       "    <tr>\n",
       "      <th>2020-12-27</th>\n",
       "      <td>66.000000</td>\n",
       "      <td>75.000000</td>\n",
       "      <td>23.36000</td>\n",
       "      <td>23.36000</td>\n",
       "      <td>22.54000</td>\n",
       "      <td>7.37000</td>\n",
       "    </tr>\n",
       "    <tr>\n",
       "      <th>2020-12-28</th>\n",
       "      <td>60.625000</td>\n",
       "      <td>67.250000</td>\n",
       "      <td>23.79250</td>\n",
       "      <td>23.79250</td>\n",
       "      <td>23.67875</td>\n",
       "      <td>3.44750</td>\n",
       "    </tr>\n",
       "    <tr>\n",
       "      <th>2020-12-29</th>\n",
       "      <td>67.750000</td>\n",
       "      <td>66.750000</td>\n",
       "      <td>24.23125</td>\n",
       "      <td>24.23125</td>\n",
       "      <td>24.23125</td>\n",
       "      <td>3.84750</td>\n",
       "    </tr>\n",
       "    <tr>\n",
       "      <th>2020-12-30</th>\n",
       "      <td>58.875000</td>\n",
       "      <td>62.750000</td>\n",
       "      <td>25.38250</td>\n",
       "      <td>25.38250</td>\n",
       "      <td>25.38250</td>\n",
       "      <td>2.76625</td>\n",
       "    </tr>\n",
       "    <tr>\n",
       "      <th>2020-12-31</th>\n",
       "      <td>23.250000</td>\n",
       "      <td>60.250000</td>\n",
       "      <td>25.98000</td>\n",
       "      <td>25.98000</td>\n",
       "      <td>25.98000</td>\n",
       "      <td>0.58250</td>\n",
       "    </tr>\n",
       "    <tr>\n",
       "      <th>2021-01-01</th>\n",
       "      <td>70.571429</td>\n",
       "      <td>69.714286</td>\n",
       "      <td>24.36000</td>\n",
       "      <td>24.36000</td>\n",
       "      <td>24.36000</td>\n",
       "      <td>0.75000</td>\n",
       "    </tr>\n",
       "  </tbody>\n",
       "</table>\n",
       "</div>"
      ],
      "text/plain": [
       "               clouds   humidity      temp  temp_max  temp_min  rain_vol\n",
       "2020-12-27  66.000000  75.000000  23.36000  23.36000  22.54000   7.37000\n",
       "2020-12-28  60.625000  67.250000  23.79250  23.79250  23.67875   3.44750\n",
       "2020-12-29  67.750000  66.750000  24.23125  24.23125  24.23125   3.84750\n",
       "2020-12-30  58.875000  62.750000  25.38250  25.38250  25.38250   2.76625\n",
       "2020-12-31  23.250000  60.250000  25.98000  25.98000  25.98000   0.58250\n",
       "2021-01-01  70.571429  69.714286  24.36000  24.36000  24.36000   0.75000"
      ]
     },
     "execution_count": 8,
     "metadata": {},
     "output_type": "execute_result"
    }
   ],
   "source": [
    "# Create a dataframe agregating the values based on each day\n",
    "# for mean\n",
    "df_mean = df.resample('D', on='datetime').mean()\n",
    "df_mean.index = df_mean.index.date\n",
    "#df_mean.drop('datetime', axis=1, inplace=True)\n",
    "df_mean"
   ]
  },
  {
   "cell_type": "code",
   "execution_count": 9,
   "metadata": {},
   "outputs": [
    {
     "data": {
      "text/html": [
       "<div>\n",
       "<style scoped>\n",
       "    .dataframe tbody tr th:only-of-type {\n",
       "        vertical-align: middle;\n",
       "    }\n",
       "\n",
       "    .dataframe tbody tr th {\n",
       "        vertical-align: top;\n",
       "    }\n",
       "\n",
       "    .dataframe thead th {\n",
       "        text-align: right;\n",
       "    }\n",
       "</style>\n",
       "<table border=\"1\" class=\"dataframe\">\n",
       "  <thead>\n",
       "    <tr style=\"text-align: right;\">\n",
       "      <th></th>\n",
       "      <th>clouds</th>\n",
       "      <th>humidity</th>\n",
       "      <th>temp</th>\n",
       "      <th>temp_max</th>\n",
       "      <th>temp_min</th>\n",
       "      <th>detailed_status</th>\n",
       "      <th>icon_url</th>\n",
       "      <th>rain_vol</th>\n",
       "    </tr>\n",
       "  </thead>\n",
       "  <tbody>\n",
       "    <tr>\n",
       "      <th>2020-12-27</th>\n",
       "      <td>66</td>\n",
       "      <td>75</td>\n",
       "      <td>23.36</td>\n",
       "      <td>23.36</td>\n",
       "      <td>22.54</td>\n",
       "      <td>moderate rain</td>\n",
       "      <td>http://openweathermap.org/img/w/10d.png</td>\n",
       "      <td>7.37</td>\n",
       "    </tr>\n",
       "    <tr>\n",
       "      <th>2020-12-28</th>\n",
       "      <td>100</td>\n",
       "      <td>82</td>\n",
       "      <td>28.64</td>\n",
       "      <td>28.64</td>\n",
       "      <td>28.64</td>\n",
       "      <td>overcast clouds</td>\n",
       "      <td>http://openweathermap.org/img/w/10n.png</td>\n",
       "      <td>14.82</td>\n",
       "    </tr>\n",
       "    <tr>\n",
       "      <th>2020-12-29</th>\n",
       "      <td>100</td>\n",
       "      <td>81</td>\n",
       "      <td>28.11</td>\n",
       "      <td>28.11</td>\n",
       "      <td>28.11</td>\n",
       "      <td>moderate rain</td>\n",
       "      <td>http://openweathermap.org/img/w/10n.png</td>\n",
       "      <td>7.33</td>\n",
       "    </tr>\n",
       "    <tr>\n",
       "      <th>2020-12-30</th>\n",
       "      <td>100</td>\n",
       "      <td>80</td>\n",
       "      <td>29.82</td>\n",
       "      <td>29.82</td>\n",
       "      <td>29.82</td>\n",
       "      <td>overcast clouds</td>\n",
       "      <td>http://openweathermap.org/img/w/10n.png</td>\n",
       "      <td>5.80</td>\n",
       "    </tr>\n",
       "    <tr>\n",
       "      <th>2020-12-31</th>\n",
       "      <td>73</td>\n",
       "      <td>72</td>\n",
       "      <td>31.01</td>\n",
       "      <td>31.01</td>\n",
       "      <td>31.01</td>\n",
       "      <td>scattered clouds</td>\n",
       "      <td>http://openweathermap.org/img/w/10n.png</td>\n",
       "      <td>2.40</td>\n",
       "    </tr>\n",
       "    <tr>\n",
       "      <th>2021-01-01</th>\n",
       "      <td>100</td>\n",
       "      <td>81</td>\n",
       "      <td>28.20</td>\n",
       "      <td>28.20</td>\n",
       "      <td>28.20</td>\n",
       "      <td>scattered clouds</td>\n",
       "      <td>http://openweathermap.org/img/w/10d.png</td>\n",
       "      <td>2.93</td>\n",
       "    </tr>\n",
       "  </tbody>\n",
       "</table>\n",
       "</div>"
      ],
      "text/plain": [
       "            clouds  humidity   temp  temp_max  temp_min   detailed_status  \\\n",
       "2020-12-27      66        75  23.36     23.36     22.54     moderate rain   \n",
       "2020-12-28     100        82  28.64     28.64     28.64   overcast clouds   \n",
       "2020-12-29     100        81  28.11     28.11     28.11     moderate rain   \n",
       "2020-12-30     100        80  29.82     29.82     29.82   overcast clouds   \n",
       "2020-12-31      73        72  31.01     31.01     31.01  scattered clouds   \n",
       "2021-01-01     100        81  28.20     28.20     28.20  scattered clouds   \n",
       "\n",
       "                                           icon_url  rain_vol  \n",
       "2020-12-27  http://openweathermap.org/img/w/10d.png      7.37  \n",
       "2020-12-28  http://openweathermap.org/img/w/10n.png     14.82  \n",
       "2020-12-29  http://openweathermap.org/img/w/10n.png      7.33  \n",
       "2020-12-30  http://openweathermap.org/img/w/10n.png      5.80  \n",
       "2020-12-31  http://openweathermap.org/img/w/10n.png      2.40  \n",
       "2021-01-01  http://openweathermap.org/img/w/10d.png      2.93  "
      ]
     },
     "execution_count": 9,
     "metadata": {},
     "output_type": "execute_result"
    }
   ],
   "source": [
    "# for max\n",
    "df_max = df.resample('D', on='datetime').max()\n",
    "df_max.index = df_max.index.date\n",
    "df_max.drop('datetime', axis=1, inplace=True)\n",
    "\n",
    "df_max"
   ]
  },
  {
   "cell_type": "code",
   "execution_count": 10,
   "metadata": {},
   "outputs": [
    {
     "data": {
      "text/html": [
       "<div>\n",
       "<style scoped>\n",
       "    .dataframe tbody tr th:only-of-type {\n",
       "        vertical-align: middle;\n",
       "    }\n",
       "\n",
       "    .dataframe tbody tr th {\n",
       "        vertical-align: top;\n",
       "    }\n",
       "\n",
       "    .dataframe thead th {\n",
       "        text-align: right;\n",
       "    }\n",
       "</style>\n",
       "<table border=\"1\" class=\"dataframe\">\n",
       "  <thead>\n",
       "    <tr style=\"text-align: right;\">\n",
       "      <th></th>\n",
       "      <th>clouds</th>\n",
       "      <th>humidity</th>\n",
       "      <th>temp</th>\n",
       "      <th>temp_max</th>\n",
       "      <th>temp_min</th>\n",
       "      <th>detailed_status</th>\n",
       "      <th>icon_url</th>\n",
       "      <th>rain_vol</th>\n",
       "    </tr>\n",
       "  </thead>\n",
       "  <tbody>\n",
       "    <tr>\n",
       "      <th>2020-12-27</th>\n",
       "      <td>66</td>\n",
       "      <td>75</td>\n",
       "      <td>23.36</td>\n",
       "      <td>23.36</td>\n",
       "      <td>22.54</td>\n",
       "      <td>moderate rain</td>\n",
       "      <td>http://openweathermap.org/img/w/10d.png</td>\n",
       "      <td>7.37</td>\n",
       "    </tr>\n",
       "    <tr>\n",
       "      <th>2020-12-28</th>\n",
       "      <td>10</td>\n",
       "      <td>46</td>\n",
       "      <td>19.97</td>\n",
       "      <td>19.97</td>\n",
       "      <td>19.97</td>\n",
       "      <td>clear sky</td>\n",
       "      <td>http://openweathermap.org/img/w/01d.png</td>\n",
       "      <td>0.00</td>\n",
       "    </tr>\n",
       "    <tr>\n",
       "      <th>2020-12-29</th>\n",
       "      <td>33</td>\n",
       "      <td>51</td>\n",
       "      <td>20.62</td>\n",
       "      <td>20.62</td>\n",
       "      <td>20.62</td>\n",
       "      <td>light rain</td>\n",
       "      <td>http://openweathermap.org/img/w/10d.png</td>\n",
       "      <td>0.28</td>\n",
       "    </tr>\n",
       "    <tr>\n",
       "      <th>2020-12-30</th>\n",
       "      <td>10</td>\n",
       "      <td>47</td>\n",
       "      <td>21.13</td>\n",
       "      <td>21.13</td>\n",
       "      <td>21.13</td>\n",
       "      <td>light rain</td>\n",
       "      <td>http://openweathermap.org/img/w/04n.png</td>\n",
       "      <td>0.00</td>\n",
       "    </tr>\n",
       "    <tr>\n",
       "      <th>2020-12-31</th>\n",
       "      <td>0</td>\n",
       "      <td>45</td>\n",
       "      <td>21.69</td>\n",
       "      <td>21.69</td>\n",
       "      <td>21.69</td>\n",
       "      <td>clear sky</td>\n",
       "      <td>http://openweathermap.org/img/w/01d.png</td>\n",
       "      <td>0.00</td>\n",
       "    </tr>\n",
       "    <tr>\n",
       "      <th>2021-01-01</th>\n",
       "      <td>31</td>\n",
       "      <td>53</td>\n",
       "      <td>21.86</td>\n",
       "      <td>21.86</td>\n",
       "      <td>21.86</td>\n",
       "      <td>broken clouds</td>\n",
       "      <td>http://openweathermap.org/img/w/03n.png</td>\n",
       "      <td>0.00</td>\n",
       "    </tr>\n",
       "  </tbody>\n",
       "</table>\n",
       "</div>"
      ],
      "text/plain": [
       "            clouds  humidity   temp  temp_max  temp_min detailed_status  \\\n",
       "2020-12-27      66        75  23.36     23.36     22.54   moderate rain   \n",
       "2020-12-28      10        46  19.97     19.97     19.97       clear sky   \n",
       "2020-12-29      33        51  20.62     20.62     20.62      light rain   \n",
       "2020-12-30      10        47  21.13     21.13     21.13      light rain   \n",
       "2020-12-31       0        45  21.69     21.69     21.69       clear sky   \n",
       "2021-01-01      31        53  21.86     21.86     21.86   broken clouds   \n",
       "\n",
       "                                           icon_url  rain_vol  \n",
       "2020-12-27  http://openweathermap.org/img/w/10d.png      7.37  \n",
       "2020-12-28  http://openweathermap.org/img/w/01d.png      0.00  \n",
       "2020-12-29  http://openweathermap.org/img/w/10d.png      0.28  \n",
       "2020-12-30  http://openweathermap.org/img/w/04n.png      0.00  \n",
       "2020-12-31  http://openweathermap.org/img/w/01d.png      0.00  \n",
       "2021-01-01  http://openweathermap.org/img/w/03n.png      0.00  "
      ]
     },
     "execution_count": 10,
     "metadata": {},
     "output_type": "execute_result"
    }
   ],
   "source": [
    "# for min\n",
    "df_min = df.resample('D', on='datetime').min()\n",
    "df_min.index = df_min.index.date\n",
    "df_min.drop('datetime', axis=1, inplace=True)\n",
    "df_min"
   ]
  },
  {
   "cell_type": "code",
   "execution_count": 11,
   "metadata": {},
   "outputs": [
    {
     "data": {
      "text/html": [
       "<div>\n",
       "<style scoped>\n",
       "    .dataframe tbody tr th:only-of-type {\n",
       "        vertical-align: middle;\n",
       "    }\n",
       "\n",
       "    .dataframe tbody tr th {\n",
       "        vertical-align: top;\n",
       "    }\n",
       "\n",
       "    .dataframe thead th {\n",
       "        text-align: right;\n",
       "    }\n",
       "</style>\n",
       "<table border=\"1\" class=\"dataframe\">\n",
       "  <thead>\n",
       "    <tr style=\"text-align: right;\">\n",
       "      <th></th>\n",
       "      <th>temp_min</th>\n",
       "      <th>temp_max</th>\n",
       "      <th>temp_mean</th>\n",
       "    </tr>\n",
       "  </thead>\n",
       "  <tbody>\n",
       "    <tr>\n",
       "      <th>2020-12-27</th>\n",
       "      <td>23.36</td>\n",
       "      <td>23.36</td>\n",
       "      <td>23.36000</td>\n",
       "    </tr>\n",
       "    <tr>\n",
       "      <th>2020-12-28</th>\n",
       "      <td>19.97</td>\n",
       "      <td>28.64</td>\n",
       "      <td>23.79250</td>\n",
       "    </tr>\n",
       "    <tr>\n",
       "      <th>2020-12-29</th>\n",
       "      <td>20.62</td>\n",
       "      <td>28.11</td>\n",
       "      <td>24.23125</td>\n",
       "    </tr>\n",
       "    <tr>\n",
       "      <th>2020-12-30</th>\n",
       "      <td>21.13</td>\n",
       "      <td>29.82</td>\n",
       "      <td>25.38250</td>\n",
       "    </tr>\n",
       "    <tr>\n",
       "      <th>2020-12-31</th>\n",
       "      <td>21.69</td>\n",
       "      <td>31.01</td>\n",
       "      <td>25.98000</td>\n",
       "    </tr>\n",
       "    <tr>\n",
       "      <th>2021-01-01</th>\n",
       "      <td>21.86</td>\n",
       "      <td>28.20</td>\n",
       "      <td>24.36000</td>\n",
       "    </tr>\n",
       "  </tbody>\n",
       "</table>\n",
       "</div>"
      ],
      "text/plain": [
       "            temp_min  temp_max  temp_mean\n",
       "2020-12-27     23.36     23.36   23.36000\n",
       "2020-12-28     19.97     28.64   23.79250\n",
       "2020-12-29     20.62     28.11   24.23125\n",
       "2020-12-30     21.13     29.82   25.38250\n",
       "2020-12-31     21.69     31.01   25.98000\n",
       "2021-01-01     21.86     28.20   24.36000"
      ]
     },
     "execution_count": 11,
     "metadata": {},
     "output_type": "execute_result"
    }
   ],
   "source": [
    "# Create a Dataframe with temperature values (min, max, average) by merging on index\n",
    "df_temp = df_min[['temp']].merge(df_max[['temp']], \n",
    "                                 left_index=True, \n",
    "                                 right_index=True, \n",
    "                                 suffixes=('_min', '_max')).merge(df_mean[['temp']],\n",
    "                                                                  left_index=True, \n",
    "                                                                  right_index=True)\n",
    "# Rename columns\n",
    "df_temp.columns = ['temp_min', 'temp_max', 'temp_mean']\n",
    "df_temp"
   ]
  },
  {
   "cell_type": "markdown",
   "metadata": {},
   "source": [
    "# Часть 2: получение метеоданных через PyOWM API\n",
    "\n",
    "Во второй части рабочего процесса мы объединяем данные по дням, а затем визуализируем информацию на двух графиках. Первый график показывает температурные данные, а второй — осадки, облачность и влажность.\n",
    "\n",
    "## 2. Создание визуализации\n",
    "\n",
    "На этом этапе мы будем создавать графики из структурированных данных через `seaborn`.\n",
    "\n",
    "## 2.1. Температурный график\n",
    "График показывает метеопрогноз с максимальной, минимальной и средней температурой на ближайшие 5 дней.\n",
    "\n",
    "### Создание графика температур на ближайшие 5 дней"
   ]
  },
  {
   "cell_type": "code",
   "execution_count": 12,
   "metadata": {},
   "outputs": [
    {
     "name": "stderr",
     "output_type": "stream",
     "text": [
      "<ipython-input-12-ebb8aceacb92>:6: UserWarning: FixedFormatter should only be used together with FixedLocator\n",
      "  sns_plot.set_xticklabels(df_temp.index, rotation=20)\n"
     ]
    },
    {
     "data": {
      "image/png": "[encoded data removed]",
      "text/plain": [
       "<Figure size 864x432 with 1 Axes>"
      ]
     },
     "metadata": {
      "needs_background": "light"
     },
     "output_type": "display_data"
    }
   ],
   "source": [
    "fig = plt.figure()\n",
    "sns_plot = sns.lineplot(data=df_temp,markers=True, dashes=False)\n",
    "sns_plot.set_title(f'Temperature forecast for the next 5 days', fontsize=20)\n",
    "sns_plot.set_xlabel('Date', fontsize=14)\n",
    "sns_plot.set_ylabel('Temperature Celsius', fontsize=14)\n",
    "sns_plot.set_xticklabels(df_temp.index, rotation=20)\n",
    "sns_plot.grid(True)\n",
    "\n",
    "sns_plot.legend(labels=['Min. Temperature', 'Max Temperature', 'Average Temperature'])\n",
    "fig.set_size_inches(12, 6)\n",
    "\n",
    "temperature_plot = f\"{city.split(',')[0].replace(' ','_')}_temperature.png\"\n",
    "sns_plot.figure.savefig(temperature_plot, \n",
    "                  dpi=300, facecolor='w', \n",
    "                  orientation='portrait',\n",
    "                  bbox_inches='tight')"
   ]
  },
  {
   "cell_type": "markdown",
   "metadata": {},
   "source": [
    "## 2.2. График влажности, осадков и облачности\n",
    "\n",
    "В этом графике мы объединяем данные об осадках и влажности.\n",
    "\n",
    "### Создание `Dataframe` с ожидаемым объемом осадков по дням:"
   ]
  },
  {
   "cell_type": "code",
   "execution_count": 13,
   "metadata": {},
   "outputs": [],
   "source": [
    "df_rain_per_day = df.resample('D', on='datetime').sum()[['rain_vol']]\n",
    "df_rain_per_day.index = df_rain_per_day.index.date"
   ]
  },
  {
   "cell_type": "code",
   "execution_count": 14,
   "metadata": {},
   "outputs": [
    {
     "data": {
      "image/png": "[encoded data removed]",
      "text/plain": [
       "<Figure size 864x432 with 2 Axes>"
      ]
     },
     "metadata": {
      "needs_background": "light"
     },
     "output_type": "display_data"
    }
   ],
   "source": [
    "fig = plt.figure()\n",
    "# Линейный график влажности и облачности:\n",
    "ax1 = fig.add_subplot(211)\n",
    "ax1 = sns.lineplot(data=df_mean[['clouds', 'humidity']], markers=True, dashes=False)\n",
    "ax1.set_xticks([])\n",
    "ax1.set_title(f'Expected humidity and rain volume for the next 5 days', fontsize=20)\n",
    "ax1.set_ylabel('Percentage', fontsize=14)\n",
    "ax1.grid(True)\n",
    "\n",
    "# Столбцы с общим объемом осадков по дням:\n",
    "ax2 = fig.add_subplot(212)\n",
    "ax2 = sns.barplot(x=df_rain_per_day.index, y='rain_vol', \n",
    "                  data=df_rain_per_day,\n",
    "                  palette=\"Blues_d\")\n",
    "ax2.set_xticklabels(df_temp.index, rotation=30)\n",
    "ax2.set_ylabel('Total Rain Volume in mm', fontsize=14)\n",
    "ax2.set_xlabel('Date', fontsize=14)\n",
    "fig.set_size_inches(12, 6)\n",
    "\n",
    "rain_humidity_plot = f\"{city.split(',')[0].replace(' ','_')}_rain_humidity.png\"\n",
    "fig.savefig(rain_humidity_plot, \n",
    "              dpi=300, facecolor='w', \n",
    "              orientation='portrait',\n",
    "              bbox_inches='tight')"
   ]
  },
  {
   "cell_type": "markdown",
   "metadata": {},
   "source": [
    "# Часть 3: создание прогноза погоды в PDF\n",
    "На последнем этапе рабочего процесса мы создаем общую метеорологическую сводку с использованием данных по городу и информации из графиков. Здесь нам понадобится библиотека `pdfkit`. С ее помощью мы сможем преобразовать HTML-шаблон в PDF-файл.\n",
    "\n",
    "## 3. Создание метеосводки\n",
    "На этом этапе рабочего процесса мы воспользуемся простым HTML-шаблоном и на его основе создадим итоговый отчет, куда добавим информацию о выбранном городе и наши графики.\n",
    "### Задаем начальные и конечные даты для анализа:"
   ]
  },
  {
   "cell_type": "code",
   "execution_count": 15,
   "metadata": {},
   "outputs": [],
   "source": [
    "today = str(df_mean.index.min()).replace('-', '/')\n",
    "last_day = str(df_mean.index.max()).replace('-', '/')"
   ]
  },
  {
   "cell_type": "markdown",
   "metadata": {},
   "source": [
    "### HTML-шаблон для добавления данных и графиков:"
   ]
  },
  {
   "cell_type": "code",
   "execution_count": 16,
   "metadata": {},
   "outputs": [],
   "source": [
    "report_template = f'''\n",
    "<!DOCTYPE html>\n",
    "    <html>\n",
    "      <head>\n",
    "        <meta charset='utf-8'>\n",
    "        <title>Weather Forecast with PyOWM</title>\n",
    "        <link rel='stylesheet' href='report.css'>\n",
    "          <style>\n",
    "          h1 {{\n",
    "          font-family: Arial;\n",
    "          font-size: 300%;\n",
    "          }}\n",
    "          h2 {{\n",
    "          font-family: Arial;\n",
    "          font-size: 200%;\n",
    "          }}\n",
    "          @page {{\n",
    "          size: 7in 9.25in;\n",
    "          margin: 27mm 16mm 27mm 16mm;\n",
    "          }}\n",
    "          </style>                       \n",
    "      </head>\n",
    "      <h1 align=\"center\">Weather forecast for {city}</h1>\n",
    "      <h2 align=\"center\">Initial date: {today}</h2>\n",
    "      <h2 align=\"center\">Final date: {last_day}</h2>\n",
    "        \n",
    "      <figure>\n",
    "        <img src=\"{temperature_plot}\" width=\"1200\" height=\"600\">\n",
    "      </figure>\n",
    "      <figure>\n",
    "        <img src=\"{rain_humidity_plot}\" width=\"1200\" height=\"600\">\n",
    "      </figure>      \n",
    "    </html>\n",
    "'''"
   ]
  },
  {
   "cell_type": "markdown",
   "metadata": {},
   "source": [
    "### Сохранение HTML-строки в файл:"
   ]
  },
  {
   "cell_type": "code",
   "execution_count": 17,
   "metadata": {},
   "outputs": [],
   "source": [
    "html_report = f\"{city.split(',')[0].replace(' ','_')}_report.html\"\n",
    "with open(html_report, \"w\") as r:\n",
    "    r.write(report_template)"
   ]
  },
  {
   "cell_type": "markdown",
   "metadata": {},
   "source": [
    "### Использование `pdfkit` для создания графика в PDF:"
   ]
  },
  {
   "cell_type": "code",
   "execution_count": 19,
   "metadata": {},
   "outputs": [
    {
     "name": "stdout",
     "output_type": "stream",
     "text": [
      "Loading pages (1/6)\r\n",
      "[>                                                           ] 0%\r",
      "[======>                                                     ] 10%\r",
      "[======>                                                     ] 11%\r",
      "Warning: Failed to load file:///C:/Users/Veronika/Documents/report.css (ignore)\r\n",
      "[===========================>                                ] 45%\r",
      "[==============================>                             ] 50%\r",
      "[============================================================] 100%\r",
      "Counting pages (2/6)                                               \r\n",
      "[============================================================] Object 1 of 1\r",
      "Resolving links (4/6)                                                       \r\n",
      "[============================================================] Object 1 of 1\r",
      "Loading headers and footers (5/6)                                           \r\n",
      "Printing pages (6/6)\r\n",
      "[>                                                           ] Preparing\r",
      "[============================================================] Page 1 of 1\r",
      "Done                                                                      \r\n"
     ]
    },
    {
     "data": {
      "text/plain": [
       "True"
      ]
     },
     "execution_count": 19,
     "metadata": {},
     "output_type": "execute_result"
    }
   ],
   "source": [
    "pdfkit.from_file(html_report, f\"{city.split(',')[0].replace(' ', '_')}_weather_report_for.pdf\")"
   ]
  },
  {
   "cell_type": "markdown",
   "metadata": {},
   "source": [
    "## Запуск\n",
    "`papermill weather_forecast_using_pyowm.ipynb weather_forecast_using_pyowm_output.ipynb -p city \"Moscow, RU\"`"
   ]
  }
 ],
 "metadata": {
  "celltoolbar": "Tags",
  "kernelspec": {
   "display_name": "Python 3",
   "language": "python",
   "name": "python3"
  },
  "language_info": {
   "codemirror_mode": {
    "name": "ipython",
    "version": 3
   },
   "file_extension": ".py",
   "mimetype": "text/x-python",
   "name": "python",
   "nbconvert_exporter": "python",
   "pygments_lexer": "ipython3",
   "version": "3.8.5"
  }
 },
 "nbformat": 4,
 "nbformat_minor": 4
}
